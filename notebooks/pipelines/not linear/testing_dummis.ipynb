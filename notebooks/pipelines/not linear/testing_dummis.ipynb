{
 "cells": [
  {
   "cell_type": "code",
   "execution_count": 2,
   "metadata": {},
   "outputs": [],
   "source": [
    "import pandas as pd\n",
    "import numpy as np\n",
    "import feature_engine\n",
    "from sklearn.model_selection import train_test_split\n",
    "import seaborn as sns"
   ]
  },
  {
   "cell_type": "code",
   "execution_count": 3,
   "metadata": {},
   "outputs": [
    {
     "data": {
      "text/plain": "   Id  Elevation  Aspect  Slope  Horizontal_Distance_To_Hydrology  \\\n0   1       2596      51      3                               258   \n1   2       2590      56      2                               212   \n2   3       2804     139      9                               268   \n3   4       2785     155     18                               242   \n4   5       2595      45      2                               153   \n\n   Vertical_Distance_To_Hydrology  Horizontal_Distance_To_Roadways  \\\n0                               0                              510   \n1                              -6                              390   \n2                              65                             3180   \n3                             118                             3090   \n4                              -1                              391   \n\n   Hillshade_9am  Hillshade_Noon  Hillshade_3pm  ...  Soil_Type32  \\\n0            221             232            148  ...            0   \n1            220             235            151  ...            0   \n2            234             238            135  ...            0   \n3            238             238            122  ...            0   \n4            220             234            150  ...            0   \n\n   Soil_Type33  Soil_Type34  Soil_Type35  Soil_Type36  Soil_Type37  \\\n0            0            0            0            0            0   \n1            0            0            0            0            0   \n2            0            0            0            0            0   \n3            0            0            0            0            0   \n4            0            0            0            0            0   \n\n   Soil_Type38  Soil_Type39  Soil_Type40  Cover_Type  \n0            0            0            0           5  \n1            0            0            0           5  \n2            0            0            0           2  \n3            0            0            0           2  \n4            0            0            0           5  \n\n[5 rows x 56 columns]",
      "text/html": "<div>\n<style scoped>\n    .dataframe tbody tr th:only-of-type {\n        vertical-align: middle;\n    }\n\n    .dataframe tbody tr th {\n        vertical-align: top;\n    }\n\n    .dataframe thead th {\n        text-align: right;\n    }\n</style>\n<table border=\"1\" class=\"dataframe\">\n  <thead>\n    <tr style=\"text-align: right;\">\n      <th></th>\n      <th>Id</th>\n      <th>Elevation</th>\n      <th>Aspect</th>\n      <th>Slope</th>\n      <th>Horizontal_Distance_To_Hydrology</th>\n      <th>Vertical_Distance_To_Hydrology</th>\n      <th>Horizontal_Distance_To_Roadways</th>\n      <th>Hillshade_9am</th>\n      <th>Hillshade_Noon</th>\n      <th>Hillshade_3pm</th>\n      <th>...</th>\n      <th>Soil_Type32</th>\n      <th>Soil_Type33</th>\n      <th>Soil_Type34</th>\n      <th>Soil_Type35</th>\n      <th>Soil_Type36</th>\n      <th>Soil_Type37</th>\n      <th>Soil_Type38</th>\n      <th>Soil_Type39</th>\n      <th>Soil_Type40</th>\n      <th>Cover_Type</th>\n    </tr>\n  </thead>\n  <tbody>\n    <tr>\n      <th>0</th>\n      <td>1</td>\n      <td>2596</td>\n      <td>51</td>\n      <td>3</td>\n      <td>258</td>\n      <td>0</td>\n      <td>510</td>\n      <td>221</td>\n      <td>232</td>\n      <td>148</td>\n      <td>...</td>\n      <td>0</td>\n      <td>0</td>\n      <td>0</td>\n      <td>0</td>\n      <td>0</td>\n      <td>0</td>\n      <td>0</td>\n      <td>0</td>\n      <td>0</td>\n      <td>5</td>\n    </tr>\n    <tr>\n      <th>1</th>\n      <td>2</td>\n      <td>2590</td>\n      <td>56</td>\n      <td>2</td>\n      <td>212</td>\n      <td>-6</td>\n      <td>390</td>\n      <td>220</td>\n      <td>235</td>\n      <td>151</td>\n      <td>...</td>\n      <td>0</td>\n      <td>0</td>\n      <td>0</td>\n      <td>0</td>\n      <td>0</td>\n      <td>0</td>\n      <td>0</td>\n      <td>0</td>\n      <td>0</td>\n      <td>5</td>\n    </tr>\n    <tr>\n      <th>2</th>\n      <td>3</td>\n      <td>2804</td>\n      <td>139</td>\n      <td>9</td>\n      <td>268</td>\n      <td>65</td>\n      <td>3180</td>\n      <td>234</td>\n      <td>238</td>\n      <td>135</td>\n      <td>...</td>\n      <td>0</td>\n      <td>0</td>\n      <td>0</td>\n      <td>0</td>\n      <td>0</td>\n      <td>0</td>\n      <td>0</td>\n      <td>0</td>\n      <td>0</td>\n      <td>2</td>\n    </tr>\n    <tr>\n      <th>3</th>\n      <td>4</td>\n      <td>2785</td>\n      <td>155</td>\n      <td>18</td>\n      <td>242</td>\n      <td>118</td>\n      <td>3090</td>\n      <td>238</td>\n      <td>238</td>\n      <td>122</td>\n      <td>...</td>\n      <td>0</td>\n      <td>0</td>\n      <td>0</td>\n      <td>0</td>\n      <td>0</td>\n      <td>0</td>\n      <td>0</td>\n      <td>0</td>\n      <td>0</td>\n      <td>2</td>\n    </tr>\n    <tr>\n      <th>4</th>\n      <td>5</td>\n      <td>2595</td>\n      <td>45</td>\n      <td>2</td>\n      <td>153</td>\n      <td>-1</td>\n      <td>391</td>\n      <td>220</td>\n      <td>234</td>\n      <td>150</td>\n      <td>...</td>\n      <td>0</td>\n      <td>0</td>\n      <td>0</td>\n      <td>0</td>\n      <td>0</td>\n      <td>0</td>\n      <td>0</td>\n      <td>0</td>\n      <td>0</td>\n      <td>5</td>\n    </tr>\n  </tbody>\n</table>\n<p>5 rows × 56 columns</p>\n</div>"
     },
     "execution_count": 3,
     "metadata": {},
     "output_type": "execute_result"
    }
   ],
   "source": [
    "data = pd.read_csv(r'../../../data/train.csv')\n",
    "data.head()"
   ]
  },
  {
   "cell_type": "code",
   "execution_count": 4,
   "metadata": {},
   "outputs": [],
   "source": [
    "soil_columns = [x for x in data.columns if x.startswith('Soil_Type')]"
   ]
  },
  {
   "cell_type": "code",
   "execution_count": 5,
   "metadata": {},
   "outputs": [
    {
     "data": {
      "text/plain": "   Soil_Type1  Soil_Type2  Soil_Type3  Soil_Type4  Soil_Type5  Soil_Type6  \\\n0           0           0           0           0           0           0   \n1           0           0           0           0           0           0   \n2           0           0           0           0           0           0   \n3           0           0           0           0           0           0   \n4           0           0           0           0           0           0   \n\n   Soil_Type7  Soil_Type8  Soil_Type9  Soil_Type10  ...  Soil_Type31  \\\n0           0           0           0            0  ...            0   \n1           0           0           0            0  ...            0   \n2           0           0           0            0  ...            0   \n3           0           0           0            0  ...            0   \n4           0           0           0            0  ...            0   \n\n   Soil_Type32  Soil_Type33  Soil_Type34  Soil_Type35  Soil_Type36  \\\n0            0            0            0            0            0   \n1            0            0            0            0            0   \n2            0            0            0            0            0   \n3            0            0            0            0            0   \n4            0            0            0            0            0   \n\n   Soil_Type37  Soil_Type38  Soil_Type39  Soil_Type40  \n0            0            0            0            0  \n1            0            0            0            0  \n2            0            0            0            0  \n3            0            0            0            0  \n4            0            0            0            0  \n\n[5 rows x 40 columns]",
      "text/html": "<div>\n<style scoped>\n    .dataframe tbody tr th:only-of-type {\n        vertical-align: middle;\n    }\n\n    .dataframe tbody tr th {\n        vertical-align: top;\n    }\n\n    .dataframe thead th {\n        text-align: right;\n    }\n</style>\n<table border=\"1\" class=\"dataframe\">\n  <thead>\n    <tr style=\"text-align: right;\">\n      <th></th>\n      <th>Soil_Type1</th>\n      <th>Soil_Type2</th>\n      <th>Soil_Type3</th>\n      <th>Soil_Type4</th>\n      <th>Soil_Type5</th>\n      <th>Soil_Type6</th>\n      <th>Soil_Type7</th>\n      <th>Soil_Type8</th>\n      <th>Soil_Type9</th>\n      <th>Soil_Type10</th>\n      <th>...</th>\n      <th>Soil_Type31</th>\n      <th>Soil_Type32</th>\n      <th>Soil_Type33</th>\n      <th>Soil_Type34</th>\n      <th>Soil_Type35</th>\n      <th>Soil_Type36</th>\n      <th>Soil_Type37</th>\n      <th>Soil_Type38</th>\n      <th>Soil_Type39</th>\n      <th>Soil_Type40</th>\n    </tr>\n  </thead>\n  <tbody>\n    <tr>\n      <th>0</th>\n      <td>0</td>\n      <td>0</td>\n      <td>0</td>\n      <td>0</td>\n      <td>0</td>\n      <td>0</td>\n      <td>0</td>\n      <td>0</td>\n      <td>0</td>\n      <td>0</td>\n      <td>...</td>\n      <td>0</td>\n      <td>0</td>\n      <td>0</td>\n      <td>0</td>\n      <td>0</td>\n      <td>0</td>\n      <td>0</td>\n      <td>0</td>\n      <td>0</td>\n      <td>0</td>\n    </tr>\n    <tr>\n      <th>1</th>\n      <td>0</td>\n      <td>0</td>\n      <td>0</td>\n      <td>0</td>\n      <td>0</td>\n      <td>0</td>\n      <td>0</td>\n      <td>0</td>\n      <td>0</td>\n      <td>0</td>\n      <td>...</td>\n      <td>0</td>\n      <td>0</td>\n      <td>0</td>\n      <td>0</td>\n      <td>0</td>\n      <td>0</td>\n      <td>0</td>\n      <td>0</td>\n      <td>0</td>\n      <td>0</td>\n    </tr>\n    <tr>\n      <th>2</th>\n      <td>0</td>\n      <td>0</td>\n      <td>0</td>\n      <td>0</td>\n      <td>0</td>\n      <td>0</td>\n      <td>0</td>\n      <td>0</td>\n      <td>0</td>\n      <td>0</td>\n      <td>...</td>\n      <td>0</td>\n      <td>0</td>\n      <td>0</td>\n      <td>0</td>\n      <td>0</td>\n      <td>0</td>\n      <td>0</td>\n      <td>0</td>\n      <td>0</td>\n      <td>0</td>\n    </tr>\n    <tr>\n      <th>3</th>\n      <td>0</td>\n      <td>0</td>\n      <td>0</td>\n      <td>0</td>\n      <td>0</td>\n      <td>0</td>\n      <td>0</td>\n      <td>0</td>\n      <td>0</td>\n      <td>0</td>\n      <td>...</td>\n      <td>0</td>\n      <td>0</td>\n      <td>0</td>\n      <td>0</td>\n      <td>0</td>\n      <td>0</td>\n      <td>0</td>\n      <td>0</td>\n      <td>0</td>\n      <td>0</td>\n    </tr>\n    <tr>\n      <th>4</th>\n      <td>0</td>\n      <td>0</td>\n      <td>0</td>\n      <td>0</td>\n      <td>0</td>\n      <td>0</td>\n      <td>0</td>\n      <td>0</td>\n      <td>0</td>\n      <td>0</td>\n      <td>...</td>\n      <td>0</td>\n      <td>0</td>\n      <td>0</td>\n      <td>0</td>\n      <td>0</td>\n      <td>0</td>\n      <td>0</td>\n      <td>0</td>\n      <td>0</td>\n      <td>0</td>\n    </tr>\n  </tbody>\n</table>\n<p>5 rows × 40 columns</p>\n</div>"
     },
     "execution_count": 5,
     "metadata": {},
     "output_type": "execute_result"
    }
   ],
   "source": [
    "x = pd.DataFrame(data[soil_columns])\n",
    "x.head()"
   ]
  },
  {
   "cell_type": "code",
   "execution_count": 6,
   "metadata": {},
   "outputs": [
    {
     "data": {
      "text/plain": "Index(['Soil_Type29', 'Soil_Type29', 'Soil_Type12', 'Soil_Type30',\n       'Soil_Type29', 'Soil_Type29', 'Soil_Type29', 'Soil_Type29',\n       'Soil_Type29', 'Soil_Type29',\n       ...\n       'Soil_Type10', 'Soil_Type10', 'Soil_Type10', 'Soil_Type11',\n       'Soil_Type11', 'Soil_Type4', 'Soil_Type4', 'Soil_Type4', 'Soil_Type4',\n       'Soil_Type2'],\n      dtype='object', length=15120)"
     },
     "execution_count": 6,
     "metadata": {},
     "output_type": "execute_result"
    }
   ],
   "source": [
    "x.columns[np.where(x!=0)[1]]"
   ]
  },
  {
   "cell_type": "code",
   "execution_count": 7,
   "metadata": {},
   "outputs": [],
   "source": [
    "from sklearn.base import BaseEstimator, TransformerMixin\n",
    "from feature_engine.encoding import RareLabelEncoder\n",
    "# This function just makes sure that the object is fitted\n",
    "from sklearn.utils.validation import check_is_fitted"
   ]
  },
  {
   "cell_type": "code",
   "execution_count": 25,
   "metadata": {},
   "outputs": [],
   "source": [
    "class FromDummiesToCategories(BaseEstimator, TransformerMixin):\n",
    "    def __init__(self, cols_to_operate, new_column_name):\n",
    "        self.cols_to_operate = cols_to_operate\n",
    "        self.new_column_name = new_column_name\n",
    "    \n",
    "    def fit(self, X, y=None):\n",
    "        return self\n",
    "    \n",
    "    def transform(self, X):\n",
    "        X = X.copy()\n",
    "        X1 = pd.DataFrame(X[self.columns])\n",
    "        serie = X1.columns[np.where(X1!=0)[1]]\n",
    "        X[self.new_column_name] = serie\n",
    "        X.drop(self.columns, axis=1, inplace=True)\n",
    "        return X"
   ]
  },
  {
   "cell_type": "code",
   "execution_count": 26,
   "metadata": {},
   "outputs": [
    {
     "data": {
      "text/plain": "FromDummiesToCategories(cols_to_operate='Soil_Type3',\n                        new_column_name='new_name')"
     },
     "execution_count": 26,
     "metadata": {},
     "output_type": "execute_result"
    }
   ],
   "source": [
    "fdmtoc = FromDummiesToCategories('Soil_Type3', 'new_name')\n",
    "fdmtoc"
   ]
  },
  {
   "cell_type": "code",
   "execution_count": 10,
   "metadata": {},
   "outputs": [],
   "source": [
    "x = fdmtoc.fit_transform(data)"
   ]
  },
  {
   "cell_type": "code",
   "execution_count": 11,
   "metadata": {},
   "outputs": [
    {
     "data": {
      "text/plain": "          Id  Elevation  Aspect  Slope  Horizontal_Distance_To_Hydrology  \\\n0          1       2596      51      3                               258   \n1          2       2590      56      2                               212   \n2          3       2804     139      9                               268   \n3          4       2785     155     18                               242   \n4          5       2595      45      2                               153   \n...      ...        ...     ...    ...                               ...   \n15115  15116       2607     243     23                               258   \n15116  15117       2603     121     19                               633   \n15117  15118       2492     134     25                               365   \n15118  15119       2487     167     28                               218   \n15119  15120       2475     197     34                               319   \n\n       Vertical_Distance_To_Hydrology  Horizontal_Distance_To_Roadways  \\\n0                                   0                              510   \n1                                  -6                              390   \n2                                  65                             3180   \n3                                 118                             3090   \n4                                  -1                              391   \n...                               ...                              ...   \n15115                               7                              660   \n15116                             195                              618   \n15117                             117                              335   \n15118                             101                              242   \n15119                              78                              270   \n\n       Hillshade_9am  Hillshade_Noon  Hillshade_3pm  \\\n0                221             232            148   \n1                220             235            151   \n2                234             238            135   \n3                238             238            122   \n4                220             234            150   \n...              ...             ...            ...   \n15115            170             251            214   \n15116            249             221             91   \n15117            250             220             83   \n15118            229             237            119   \n15119            189             244            164   \n\n       Horizontal_Distance_To_Fire_Points  Wilderness_Area1  Wilderness_Area2  \\\n0                                    6279                 1                 0   \n1                                    6225                 1                 0   \n2                                    6121                 1                 0   \n3                                    6211                 1                 0   \n4                                    6172                 1                 0   \n...                                   ...               ...               ...   \n15115                                1282                 0                 0   \n15116                                1325                 0                 0   \n15117                                1187                 0                 0   \n15118                                 932                 0                 0   \n15119                                 914                 0                 0   \n\n       Wilderness_Area3  Wilderness_Area4  Cover_Type     new_name  \n0                     0                 0           5  Soil_Type29  \n1                     0                 0           5  Soil_Type29  \n2                     0                 0           2  Soil_Type12  \n3                     0                 0           2  Soil_Type30  \n4                     0                 0           5  Soil_Type29  \n...                 ...               ...         ...          ...  \n15115                 1                 0           3   Soil_Type4  \n15116                 1                 0           3   Soil_Type4  \n15117                 1                 0           3   Soil_Type4  \n15118                 1                 0           3   Soil_Type4  \n15119                 1                 0           3   Soil_Type2  \n\n[15120 rows x 17 columns]",
      "text/html": "<div>\n<style scoped>\n    .dataframe tbody tr th:only-of-type {\n        vertical-align: middle;\n    }\n\n    .dataframe tbody tr th {\n        vertical-align: top;\n    }\n\n    .dataframe thead th {\n        text-align: right;\n    }\n</style>\n<table border=\"1\" class=\"dataframe\">\n  <thead>\n    <tr style=\"text-align: right;\">\n      <th></th>\n      <th>Id</th>\n      <th>Elevation</th>\n      <th>Aspect</th>\n      <th>Slope</th>\n      <th>Horizontal_Distance_To_Hydrology</th>\n      <th>Vertical_Distance_To_Hydrology</th>\n      <th>Horizontal_Distance_To_Roadways</th>\n      <th>Hillshade_9am</th>\n      <th>Hillshade_Noon</th>\n      <th>Hillshade_3pm</th>\n      <th>Horizontal_Distance_To_Fire_Points</th>\n      <th>Wilderness_Area1</th>\n      <th>Wilderness_Area2</th>\n      <th>Wilderness_Area3</th>\n      <th>Wilderness_Area4</th>\n      <th>Cover_Type</th>\n      <th>new_name</th>\n    </tr>\n  </thead>\n  <tbody>\n    <tr>\n      <th>0</th>\n      <td>1</td>\n      <td>2596</td>\n      <td>51</td>\n      <td>3</td>\n      <td>258</td>\n      <td>0</td>\n      <td>510</td>\n      <td>221</td>\n      <td>232</td>\n      <td>148</td>\n      <td>6279</td>\n      <td>1</td>\n      <td>0</td>\n      <td>0</td>\n      <td>0</td>\n      <td>5</td>\n      <td>Soil_Type29</td>\n    </tr>\n    <tr>\n      <th>1</th>\n      <td>2</td>\n      <td>2590</td>\n      <td>56</td>\n      <td>2</td>\n      <td>212</td>\n      <td>-6</td>\n      <td>390</td>\n      <td>220</td>\n      <td>235</td>\n      <td>151</td>\n      <td>6225</td>\n      <td>1</td>\n      <td>0</td>\n      <td>0</td>\n      <td>0</td>\n      <td>5</td>\n      <td>Soil_Type29</td>\n    </tr>\n    <tr>\n      <th>2</th>\n      <td>3</td>\n      <td>2804</td>\n      <td>139</td>\n      <td>9</td>\n      <td>268</td>\n      <td>65</td>\n      <td>3180</td>\n      <td>234</td>\n      <td>238</td>\n      <td>135</td>\n      <td>6121</td>\n      <td>1</td>\n      <td>0</td>\n      <td>0</td>\n      <td>0</td>\n      <td>2</td>\n      <td>Soil_Type12</td>\n    </tr>\n    <tr>\n      <th>3</th>\n      <td>4</td>\n      <td>2785</td>\n      <td>155</td>\n      <td>18</td>\n      <td>242</td>\n      <td>118</td>\n      <td>3090</td>\n      <td>238</td>\n      <td>238</td>\n      <td>122</td>\n      <td>6211</td>\n      <td>1</td>\n      <td>0</td>\n      <td>0</td>\n      <td>0</td>\n      <td>2</td>\n      <td>Soil_Type30</td>\n    </tr>\n    <tr>\n      <th>4</th>\n      <td>5</td>\n      <td>2595</td>\n      <td>45</td>\n      <td>2</td>\n      <td>153</td>\n      <td>-1</td>\n      <td>391</td>\n      <td>220</td>\n      <td>234</td>\n      <td>150</td>\n      <td>6172</td>\n      <td>1</td>\n      <td>0</td>\n      <td>0</td>\n      <td>0</td>\n      <td>5</td>\n      <td>Soil_Type29</td>\n    </tr>\n    <tr>\n      <th>...</th>\n      <td>...</td>\n      <td>...</td>\n      <td>...</td>\n      <td>...</td>\n      <td>...</td>\n      <td>...</td>\n      <td>...</td>\n      <td>...</td>\n      <td>...</td>\n      <td>...</td>\n      <td>...</td>\n      <td>...</td>\n      <td>...</td>\n      <td>...</td>\n      <td>...</td>\n      <td>...</td>\n      <td>...</td>\n    </tr>\n    <tr>\n      <th>15115</th>\n      <td>15116</td>\n      <td>2607</td>\n      <td>243</td>\n      <td>23</td>\n      <td>258</td>\n      <td>7</td>\n      <td>660</td>\n      <td>170</td>\n      <td>251</td>\n      <td>214</td>\n      <td>1282</td>\n      <td>0</td>\n      <td>0</td>\n      <td>1</td>\n      <td>0</td>\n      <td>3</td>\n      <td>Soil_Type4</td>\n    </tr>\n    <tr>\n      <th>15116</th>\n      <td>15117</td>\n      <td>2603</td>\n      <td>121</td>\n      <td>19</td>\n      <td>633</td>\n      <td>195</td>\n      <td>618</td>\n      <td>249</td>\n      <td>221</td>\n      <td>91</td>\n      <td>1325</td>\n      <td>0</td>\n      <td>0</td>\n      <td>1</td>\n      <td>0</td>\n      <td>3</td>\n      <td>Soil_Type4</td>\n    </tr>\n    <tr>\n      <th>15117</th>\n      <td>15118</td>\n      <td>2492</td>\n      <td>134</td>\n      <td>25</td>\n      <td>365</td>\n      <td>117</td>\n      <td>335</td>\n      <td>250</td>\n      <td>220</td>\n      <td>83</td>\n      <td>1187</td>\n      <td>0</td>\n      <td>0</td>\n      <td>1</td>\n      <td>0</td>\n      <td>3</td>\n      <td>Soil_Type4</td>\n    </tr>\n    <tr>\n      <th>15118</th>\n      <td>15119</td>\n      <td>2487</td>\n      <td>167</td>\n      <td>28</td>\n      <td>218</td>\n      <td>101</td>\n      <td>242</td>\n      <td>229</td>\n      <td>237</td>\n      <td>119</td>\n      <td>932</td>\n      <td>0</td>\n      <td>0</td>\n      <td>1</td>\n      <td>0</td>\n      <td>3</td>\n      <td>Soil_Type4</td>\n    </tr>\n    <tr>\n      <th>15119</th>\n      <td>15120</td>\n      <td>2475</td>\n      <td>197</td>\n      <td>34</td>\n      <td>319</td>\n      <td>78</td>\n      <td>270</td>\n      <td>189</td>\n      <td>244</td>\n      <td>164</td>\n      <td>914</td>\n      <td>0</td>\n      <td>0</td>\n      <td>1</td>\n      <td>0</td>\n      <td>3</td>\n      <td>Soil_Type2</td>\n    </tr>\n  </tbody>\n</table>\n<p>15120 rows × 17 columns</p>\n</div>"
     },
     "execution_count": 11,
     "metadata": {},
     "output_type": "execute_result"
    }
   ],
   "source": [
    "x"
   ]
  },
  {
   "cell_type": "code",
   "execution_count": 12,
   "metadata": {},
   "outputs": [
    {
     "data": {
      "text/plain": "Soil_Type10    0.141667\nSoil_Type29    0.085384\nSoil_Type3     0.063624\nSoil_Type4     0.055754\nSoil_Type23    0.050066\nSoil_Type38    0.048148\nSoil_Type30    0.047950\nSoil_Type32    0.045635\nSoil_Type39    0.043452\nSoil_Type6     0.042989\nSoil_Type2     0.041204\nSoil_Type33    0.040741\nSoil_Type17    0.040476\nSoil_Type13    0.031481\nSoil_Type40    0.030357\nSoil_Type11    0.026852\nSoil_Type1     0.023479\nSoil_Type22    0.022817\nSoil_Type31    0.021958\nSoil_Type24    0.016997\nSoil_Type12    0.015013\nSoil_Type14    0.011177\nSoil_Type5     0.010913\nSoil_Type20    0.009193\nSoil_Type16    0.007540\nSoil_Type35    0.006746\nSoil_Type18    0.003968\nSoil_Type26    0.003571\nSoil_Type19    0.003042\nSoil_Type37    0.002249\nSoil_Type34    0.001455\nSoil_Type21    0.001058\nSoil_Type27    0.000992\nSoil_Type9     0.000661\nSoil_Type36    0.000661\nSoil_Type28    0.000595\nSoil_Type8     0.000066\nSoil_Type25    0.000066\nName: new_name, dtype: float64"
     },
     "execution_count": 12,
     "metadata": {},
     "output_type": "execute_result"
    }
   ],
   "source": [
    "x['new_name'].value_counts(normalize=True)"
   ]
  },
  {
   "cell_type": "code",
   "execution_count": 13,
   "metadata": {},
   "outputs": [
    {
     "data": {
      "text/plain": "{'cabin': Index(['n', 'C', 'B', 'E', 'D'], dtype='object'),\n 'pclass': Int64Index([3, 1, 2], dtype='int64'),\n 'embarked': Index(['S', 'C', 'Q'], dtype='object')}"
     },
     "execution_count": 13,
     "metadata": {},
     "output_type": "execute_result"
    }
   ],
   "source": [
    "from feature_engine.encoding import RareLabelEncoder\n",
    "\n",
    "def load_titanic():\n",
    "    data = pd.read_csv(\n",
    "        'https://www.openml.org/data/get_csv/16826755/phpMYEkMl')\n",
    "    data = data.replace('?', np.nan)\n",
    "    data['cabin'] = data['cabin'].astype(str).str[0]\n",
    "    data['pclass'] = data['pclass'].astype('O')\n",
    "    data['embarked'].fillna('C', inplace=True)\n",
    "    return data\n",
    "\n",
    "data = load_titanic()\n",
    "\n",
    "# Separate into train and test sets\n",
    "X_train, X_test, y_train, y_test = train_test_split(\n",
    "    data.drop(['survived', 'name', 'ticket'], axis=1),\n",
    "    data['survived'], test_size=0.3, random_state=0)\n",
    "\n",
    "# set up the encoder\n",
    "encoder = RareLabelEncoder(tol=0.03, n_categories=2, variables=['cabin', 'pclass', 'embarked'],\n",
    "                           replace_with='Rare')\n",
    "\n",
    "# fit the encoder\n",
    "encoder.fit(X_train)\n",
    "\n",
    "# transform the data\n",
    "train_t = encoder.transform(X_train)\n",
    "test_t = encoder.transform(X_test)\n",
    "\n",
    "encoder.encoder_dict_"
   ]
  },
  {
   "cell_type": "code",
   "execution_count": 14,
   "metadata": {},
   "outputs": [
    {
     "data": {
      "text/plain": "n    0.766376\nC    0.077511\nB    0.045852\nE    0.034934\nD    0.034934\nA    0.018559\nF    0.016376\nG    0.004367\nT    0.001092\nName: cabin, dtype: float64"
     },
     "execution_count": 14,
     "metadata": {},
     "output_type": "execute_result"
    }
   ],
   "source": [
    "X_train['cabin'].value_counts(normalize=True)"
   ]
  },
  {
   "cell_type": "code",
   "execution_count": 15,
   "metadata": {},
   "outputs": [
    {
     "data": {
      "text/plain": "n       0.766376\nC       0.077511\nB       0.045852\nRare    0.040393\nE       0.034934\nD       0.034934\nName: cabin, dtype: float64"
     },
     "execution_count": 15,
     "metadata": {},
     "output_type": "execute_result"
    }
   ],
   "source": [
    "train_t['cabin'].value_counts(normalize=True)"
   ]
  },
  {
   "cell_type": "code",
   "execution_count": 16,
   "metadata": {},
   "outputs": [
    {
     "data": {
      "text/plain": "n       0.793893\nB       0.058524\nC       0.058524\nD       0.035623\nRare    0.030534\nE       0.022901\nName: cabin, dtype: float64"
     },
     "execution_count": 16,
     "metadata": {},
     "output_type": "execute_result"
    }
   ],
   "source": [
    "test_t['cabin'].value_counts(normalize=True)"
   ]
  }
 ],
 "metadata": {
  "kernelspec": {
   "display_name": "Python 3",
   "language": "python",
   "name": "python3"
  },
  "language_info": {
   "codemirror_mode": {
    "name": "ipython",
    "version": 3
   },
   "file_extension": ".py",
   "mimetype": "text/x-python",
   "name": "python",
   "nbconvert_exporter": "python",
   "pygments_lexer": "ipython3",
   "version": "3.8.5"
  }
 },
 "nbformat": 4,
 "nbformat_minor": 4
}